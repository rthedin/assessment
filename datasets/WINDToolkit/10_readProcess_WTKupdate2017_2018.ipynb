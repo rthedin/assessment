{
 "cells": [
  {
   "cell_type": "code",
   "execution_count": 2,
   "metadata": {},
   "outputs": [],
   "source": [
    "import xarray as xr\n",
    "import numpy as np\n",
    "import os\n",
    "import matplotlib.pyplot as plt\n",
    "import matplotlib.dates as mdates\n",
    "import h5pyd\n",
    "import pandas as pd\n",
    "import windrose as wr\n",
    "import astral"
   ]
  },
  {
   "cell_type": "code",
   "execution_count": 3,
   "metadata": {},
   "outputs": [],
   "source": [
    "import rex"
   ]
  },
  {
   "cell_type": "code",
   "execution_count": 4,
   "metadata": {},
   "outputs": [],
   "source": [
    "from mmctools.helper_functions import theta\n",
    "from mmctools.helper_functions import T_to_Tv\n",
    "from mmctools.plotting import plot_timehistory_at_height, plot_profile, plot_timeheight"
   ]
  },
  {
   "cell_type": "code",
   "execution_count": 5,
   "metadata": {},
   "outputs": [],
   "source": [
    "# constants\n",
    "k = 0.4      # von Karman constant\n",
    "g = 9.81\n",
    "Rd = 287.05  # gas constant for dry air [J kg^-1 K-1]\n",
    "Cp = 1004.   # specific heat at constant pressure for dry air [J kg^-1 K-1]"
   ]
  },
  {
   "cell_type": "markdown",
   "metadata": {},
   "source": [
    "# WIND Toolkit Analysis (updated dataset)\n",
    "# Part 1 - Read, processing, and initial classification of data\n",
    "\n",
    "Regis Thedin \\\n",
    "Dec 2020"
   ]
  },
  {
   "cell_type": "markdown",
   "metadata": {},
   "source": [
    "## 1. Read updated dataset"
   ]
  },
  {
   "cell_type": "code",
   "execution_count": 6,
   "metadata": {},
   "outputs": [],
   "source": [
    "# TOTW single column coordinates\n",
    "totw_coord = (42.921494, -105.785106)\n",
    "\n",
    "# TOTW 30x30km region\n",
    "totw30x30km_bottomLeftCoord = (42.8297, -105.9565)\n",
    "totw30x30km_topRightCoord = (43.0826, -105.6611)\n",
    "\n",
    "# TOTW 20x20km region\n",
    "totw20x20km_bottomLeftCoord = (42.861257, -105.908994)\n",
    "totw20x20km_topRightCoord = (43.044721, -105.661957)"
   ]
  },
  {
   "cell_type": "code",
   "execution_count": 7,
   "metadata": {},
   "outputs": [],
   "source": [
    "# full hdf5 data files\n",
    "wtk2017hourly = '/lustre/eaglefs/shared-projects/MSS/tap/ERA5_En1/WTK/h5/wtk_ERA5_En1_2017.h5'\n",
    "wtk2018hourly = '/lustre/eaglefs/shared-projects/MSS/tap/ERA5_En1/WTK/h5/wtk_ERA5_En1_2018.h5'\n",
    "\n",
    "wtk2017_5min = ['/lustre/eaglefs/shared-projects/MSS/tap/ERA5_En1/WTK/h5/2017/wtk_ERA5_En1_2017_0m.h5',   \\\n",
    "                '/lustre/eaglefs/shared-projects/MSS/tap/ERA5_En1/WTK/h5/2017/wtk_ERA5_En1_2017_2m.h5',   \\\n",
    "                '/lustre/eaglefs/shared-projects/MSS/tap/ERA5_En1/WTK/h5/2017/wtk_ERA5_En1_2017_10m.h5',  \\\n",
    "                '/lustre/eaglefs/shared-projects/MSS/tap/ERA5_En1/WTK/h5/2017/wtk_ERA5_En1_2017_20m.h5',  \\\n",
    "                '/lustre/eaglefs/shared-projects/MSS/tap/ERA5_En1/WTK/h5/2017/wtk_ERA5_En1_2017_40m.h5',  \\\n",
    "                '/lustre/eaglefs/shared-projects/MSS/tap/ERA5_En1/WTK/h5/2017/wtk_ERA5_En1_2017_60m.h5',  \\\n",
    "                '/lustre/eaglefs/shared-projects/MSS/tap/ERA5_En1/WTK/h5/2017/wtk_ERA5_En1_2017_80m.h5',  \\\n",
    "                '/lustre/eaglefs/shared-projects/MSS/tap/ERA5_En1/WTK/h5/2017/wtk_ERA5_En1_2017_100m.h5', \\\n",
    "                '/lustre/eaglefs/shared-projects/MSS/tap/ERA5_En1/WTK/h5/2017/wtk_ERA5_En1_2017_120m.h5', \\\n",
    "                '/lustre/eaglefs/shared-projects/MSS/tap/ERA5_En1/WTK/h5/2017/wtk_ERA5_En1_2017_140m.h5', \\\n",
    "                '/lustre/eaglefs/shared-projects/MSS/tap/ERA5_En1/WTK/h5/2017/wtk_ERA5_En1_2017_160m.h5', \\\n",
    "                '/lustre/eaglefs/shared-projects/MSS/tap/ERA5_En1/WTK/h5/2017/wtk_ERA5_En1_2017_180m.h5', \\\n",
    "                '/lustre/eaglefs/shared-projects/MSS/tap/ERA5_En1/WTK/h5/2017/wtk_ERA5_En1_2017_200m.h5']\n",
    "\n",
    "wtk2018_5min = ['/lustre/eaglefs/shared-projects/MSS/tap/ERA5_En1/WTK/h5/2018/wtk_ERA5_En1_2018_0m.h5',   \\\n",
    "                '/lustre/eaglefs/shared-projects/MSS/tap/ERA5_En1/WTK/h5/2018/wtk_ERA5_En1_2018_2m.h5',   \\\n",
    "                '/lustre/eaglefs/shared-projects/MSS/tap/ERA5_En1/WTK/h5/2018/wtk_ERA5_En1_2018_10m.h5',  \\\n",
    "                '/lustre/eaglefs/shared-projects/MSS/tap/ERA5_En1/WTK/h5/2018/wtk_ERA5_En1_2018_20m.h5',  \\\n",
    "                '/lustre/eaglefs/shared-projects/MSS/tap/ERA5_En1/WTK/h5/2018/wtk_ERA5_En1_2018_40m.h5',  \\\n",
    "                '/lustre/eaglefs/shared-projects/MSS/tap/ERA5_En1/WTK/h5/2018/wtk_ERA5_En1_2018_60m.h5',  \\\n",
    "                '/lustre/eaglefs/shared-projects/MSS/tap/ERA5_En1/WTK/h5/2018/wtk_ERA5_En1_2018_80m.h5',  \\\n",
    "                '/lustre/eaglefs/shared-projects/MSS/tap/ERA5_En1/WTK/h5/2018/wtk_ERA5_En1_2018_100m.h5', \\\n",
    "                '/lustre/eaglefs/shared-projects/MSS/tap/ERA5_En1/WTK/h5/2018/wtk_ERA5_En1_2018_120m.h5', \\\n",
    "                '/lustre/eaglefs/shared-projects/MSS/tap/ERA5_En1/WTK/h5/2018/wtk_ERA5_En1_2018_140m.h5', \\\n",
    "                '/lustre/eaglefs/shared-projects/MSS/tap/ERA5_En1/WTK/h5/2018/wtk_ERA5_En1_2018_160m.h5', \\\n",
    "                '/lustre/eaglefs/shared-projects/MSS/tap/ERA5_En1/WTK/h5/2018/wtk_ERA5_En1_2018_180m.h5', \\\n",
    "                '/lustre/eaglefs/shared-projects/MSS/tap/ERA5_En1/WTK/h5/2018/wtk_ERA5_En1_2018_200m.h5']"
   ]
  },
  {
   "cell_type": "code",
   "execution_count": 8,
   "metadata": {},
   "outputs": [],
   "source": [
    "w2017 = rex.WindX(wtk2017hourly, hsds=False)\n",
    "w2018 = rex.WindX(wtk2018hourly, hsds=False)"
   ]
  },
  {
   "cell_type": "code",
   "execution_count": 9,
   "metadata": {},
   "outputs": [],
   "source": [
    "# Get grid IDs of the 20x20 km area around TOTW\n",
    "totw_gids = w2017.box_gids(totw20x20km_bottomLeftCoord, totw20x20km_topRightCoord)   # len 96"
   ]
  },
  {
   "cell_type": "markdown",
   "metadata": {},
   "source": [
    "### 1.1. Data fields\n"
   ]
  },
  {
   "cell_type": "code",
   "execution_count": 10,
   "metadata": {},
   "outputs": [],
   "source": [
    "fields=w2017.datasets"
   ]
  },
  {
   "cell_type": "code",
   "execution_count": 11,
   "metadata": {},
   "outputs": [],
   "source": [
    "# Fields (units from `ncdump`)\n",
    "timeheight_fields = [\n",
    "    'windspeed',                 # [m/s]\n",
    "    'winddirection',             # [deg from N]\n",
    "    'pressure',                  # [Pa]\n",
    "    'temperature',               # [deg C]\n",
    "    'turbulent_kinetic_energy',  # [m2/s2]\n",
    "]\n",
    "\n",
    "time_fields = [\n",
    "     'boundary_layer_height',        # [m]\n",
    "     'friction_velocity_2m',         # [m/s]\n",
    "     'inversemoninobukhovlength_2m', # [1/m]\n",
    "     'latent_heat_flux',             # [W/m2]\n",
    "     'precipitationrate_0m',         # [mm/hour]\n",
    "     'relativehumidity_2m',          # [%]\n",
    "     'skin_temperature',             # [deg C]\n",
    "     'surface_heat_flux',            # [W/m2]\n",
    "     'surface_sea_temperature',      # [deg C]\n",
    "]"
   ]
  },
  {
   "cell_type": "markdown",
   "metadata": {},
   "source": [
    "### 1.2. Initialize dataframes\n",
    "Keeping two separate dataframes: `dfsc` for single-column data, and `df20km` for average data within a 20x20 km box around the wind farm"
   ]
  },
  {
   "cell_type": "code",
   "execution_count": 12,
   "metadata": {},
   "outputs": [],
   "source": [
    "# Get unique heights\n",
    "heights = []\n",
    "for name in timeheight_fields:\n",
    "    fullnames = [field for field in fields if field.startswith(name+'_')]\n",
    "    assert all([fullname.endswith('m') for fullname in fullnames])\n",
    "    heights += [float(fullname.split('_')[-1][:-1]) for fullname in fullnames]\n",
    "heights_u = np.unique(heights)"
   ]
  },
  {
   "cell_type": "code",
   "execution_count": 13,
   "metadata": {},
   "outputs": [],
   "source": [
    "# Initialize dataframes\n",
    "timeindex = pd.Index(w2017.time_index.union(w2018.time_index))\n",
    "multicolumns = pd.MultiIndex.from_product((timeheight_fields, heights_u), names=(None,'height'))\n",
    "\n",
    "dfsc = pd.DataFrame(index=timeindex, columns=multicolumns, dtype=float)\n",
    "dfsc.index.names = ['datetime']\n",
    "df20km = pd.DataFrame(index=timeindex, columns=multicolumns, dtype=float)\n",
    "df20km.index.names = ['datetime']"
   ]
  },
  {
   "cell_type": "markdown",
   "metadata": {},
   "source": [
    "### 1.3. Add time-height data"
   ]
  },
  {
   "cell_type": "code",
   "execution_count": 14,
   "metadata": {},
   "outputs": [],
   "source": [
    "# Fill in dataframe based on single-column data\n",
    "for name in timeheight_fields:\n",
    "    fullnames = [field for field in fields if field.startswith(name+'_')]\n",
    "    heights = [float(fullname.split('_')[-1][:-1]) for fullname in fullnames]\n",
    "    for fullname,height in zip(fullnames,heights):\n",
    "        # print('Reading',name,height)\n",
    "        data = pd.concat([w2017.get_lat_lon_df(fullname,totw_coord),w2018.get_lat_lon_df(fullname,totw_coord)])\n",
    "        dfsc.loc[:,(name,height)] = data.values"
   ]
  },
  {
   "cell_type": "code",
   "execution_count": 15,
   "metadata": {},
   "outputs": [],
   "source": [
    "# Fill in dataframe based on 20x20 avg data\n",
    "for name in timeheight_fields:\n",
    "    fullnames = [field for field in fields if field.startswith(name+'_')]\n",
    "    heights = [float(fullname.split('_')[-1][:-1]) for fullname in fullnames]\n",
    "    for fullname,height in zip(fullnames,heights):\n",
    "        #print('Reading',name,height)\n",
    "        data = pd.concat([w2017.get_gid_df(fullname,totw_gids).mean(axis=1),w2018.get_gid_df(fullname,totw_gids).mean(axis=1)])\n",
    "        df20km.loc[:,(name,height)] = data.values\n",
    "        \n",
    "        "
   ]
  },
  {
   "cell_type": "markdown",
   "metadata": {},
   "source": [
    "### 1.4. Add single-height variables\n",
    "Add the single height variables (from `time_fields`, like $z_i$ and $u*$ to height $z=0$. This is not very space efficient, but it makes computations significantly more convenient.\n",
    "\n",
    "Also copies both relative humidity and inverse Obukhov length (that are both defined at 2m) to all other heights. Again, not space efficient, but the relative humidity is needed at all heights to compute virtual temperature (and we assume it does not vary with height). The inverse of $L$, on the other hand, is just copied for convenience to make it easier to compute the stability state and use `loc` to get data."
   ]
  },
  {
   "cell_type": "code",
   "execution_count": 16,
   "metadata": {},
   "outputs": [],
   "source": [
    "for name in time_fields:\n",
    "    dfsc[(name,0)] = pd.concat([w2017.get_lat_lon_df(name,totw_coord),w2018.get_lat_lon_df(name,totw_coord)]).values\n",
    "    df20km[(name,0)] = pd.concat([w2017.get_gid_df(name,totw_gids).mean(axis=1),w2018.get_gid_df(name,totw_gids).mean(axis=1)])"
   ]
  },
  {
   "cell_type": "code",
   "execution_count": 17,
   "metadata": {},
   "outputs": [],
   "source": [
    "for h in heights_u:\n",
    "    for var in 'relativehumidity_2m','inversemoninobukhovlength_2m':\n",
    "        data = pd.concat([w2017.get_lat_lon_df(var,totw_coord),w2018.get_lat_lon_df(var,totw_coord)])\n",
    "        dfsc[(var,h)] = data.values\n",
    "        data = pd.concat([w2017.get_gid_df(var,totw_gids).mean(axis=1),w2018.get_gid_df(var,totw_gids).mean(axis=1)])\n",
    "        df20km[(var,h)] = data.values\n"
   ]
  },
  {
   "cell_type": "markdown",
   "metadata": {},
   "source": [
    "## 2. Load old WIND Toolkit data to compare\n",
    "Old data processed by Eliot and Regis. Adding a few operations here to put both time series and column data dataframes into a single dataframe of equivalent format for plotting alongside new data."
   ]
  },
  {
   "cell_type": "code",
   "execution_count": 18,
   "metadata": {},
   "outputs": [],
   "source": [
    "# Load time series and column data from Eliot's a2e-mmc/assissment/datasets/WINDToolkit/{1-*,2_*,3_*}\n",
    "datadir = '/home/rthedin/a2e-mmc/assessment/datasets/WINDToolkit/data'\n",
    "\n",
    "tsdata = 'WTK_ts.calc.csv.gz'    # time-series data\n",
    "columndata = 'WTK.calc.csv.gz'   # time-height data\n",
    "\n",
    "dfts = pd.read_csv(os.path.join(datadir,tsdata),parse_dates=['datetime'],index_col=0)\n",
    "dfcd = pd.read_csv(os.path.join(datadir,columndata),parse_dates=['datetime']).set_index(['datetime','height'])"
   ]
  },
  {
   "cell_type": "code",
   "execution_count": 19,
   "metadata": {},
   "outputs": [],
   "source": [
    "# Get fields\n",
    "time_fields_oldWTK = list(dfts.columns)\n",
    "heights_oldWTK = dfcd.index.get_level_values('height').unique()"
   ]
  },
  {
   "cell_type": "code",
   "execution_count": 20,
   "metadata": {},
   "outputs": [],
   "source": [
    "dfold = dfcd.copy()\n",
    "dfold = dfold.unstack()"
   ]
  },
  {
   "cell_type": "code",
   "execution_count": 21,
   "metadata": {},
   "outputs": [],
   "source": [
    "# Add time-series data to column-data data\n",
    "for name in time_fields_oldWTK:\n",
    "    dfold[(name,2)] = dfts[name].values\n",
    "    \n",
    "# Make a copy of all the quantities at height 2m to height 0m to easier comparison with newer WTK data\n",
    "for name in list(dfcd.columns) + list(dfts.columns):\n",
    "    dfold[(name,0)] = dfold[(name,2)].values"
   ]
  },
  {
   "cell_type": "markdown",
   "metadata": {},
   "source": [
    "## 3. Get weather station data using Mesonet API\n",
    "\n",
    "https://developers.synopticdata.com/mesonet/\n",
    "\n",
    "* get private API key at https://developers.synopticdata.com/\n",
    "* create token at https://api.synopticdata.com/v2/auth?apikey={your Private API key}\n",
    "\n",
    "API vars:\n",
    "https://developers.synopticdata.com/mesonet/v2/api-variables/\n",
    "\n",
    "Station selection:\n",
    "https://developers.synopticdata.com/mesonet/v2/station-selectors/\n",
    "\n",
    "Section written by Eliot, modified/used by Regis"
   ]
  },
  {
   "cell_type": "code",
   "execution_count": 22,
   "metadata": {},
   "outputs": [],
   "source": [
    "import urllib"
   ]
  },
  {
   "cell_type": "code",
   "execution_count": 23,
   "metadata": {},
   "outputs": [],
   "source": [
    "datestart = pd.to_datetime('2017-01-01 00:00')\n",
    "datefinish = pd.to_datetime('2018-12-31 00:00')\n",
    "\n",
    "varnames = [\n",
    "    'air_temp','air_temp_2m','air_temp_10m','soil_temp_ir','dew_point_temperature','virtual_temp','relative_humidity',\n",
    "    'pressure','sea_level_pressure',\n",
    "    'wind_speed','wind_direction','wind_gust','peak_wind_speed',\n",
    "    'sonic_wind_speed','sonic_wind_direction','sonic_vertical_vel','sonic_zonal_wind_stdev','sonic_vertical_wind_stdev',\n",
    "    'sonic_air_temp','sonic_air_temp_stdev',\n",
    "    'solar_radiation','vertical_heat_flux','friction_velocity',\n",
    "]\n",
    "\n",
    "stationlist = ['kcpr']\n",
    "#lat,lon,radius = 40.99429, -103.52535, 100. # miles"
   ]
  },
  {
   "cell_type": "code",
   "execution_count": 24,
   "metadata": {},
   "outputs": [],
   "source": [
    "datadir = 'data'\n",
    "os.makedirs(datadir,exist_ok=True)\n",
    "\n",
    "figdir = 'figures'\n",
    "os.makedirs(figdir,exist_ok=True)\n",
    "\n",
    "url = \"http://api.mesowest.net/v2/stations/timeseries\"\n",
    "with open('mesonetToken.txt','r') as f:\n",
    "    token = f.readline()"
   ]
  },
  {
   "cell_type": "markdown",
   "metadata": {},
   "source": [
    "### 3.1. Read data"
   ]
  },
  {
   "cell_type": "code",
   "execution_count": 25,
   "metadata": {},
   "outputs": [],
   "source": [
    "args = {\n",
    "    'start': datestart.strftime('%Y%m%d%H%M'),\n",
    "    'end': datefinish.strftime('%Y%m%d%H%M'),\n",
    "    'obtimezone': 'UTC',\n",
    "    'vars': ','.join(varnames),\n",
    "    'units': 'temp|C',\n",
    "    'token': token,\n",
    "    'output': 'csv',\n",
    "}\n",
    "if len(stationlist) > 0:\n",
    "    args['stids'] = ','.join(stationlist)\n",
    "else:\n",
    "    args['radius'] = f'{lat:f},{lon:f},{radius:g}'"
   ]
  },
  {
   "cell_type": "code",
   "execution_count": 26,
   "metadata": {
    "scrolled": true
   },
   "outputs": [],
   "source": [
    "apistring = urllib.parse.urlencode(args)\n",
    "fullurl = f'{url}?{apistring}'\n",
    "\n",
    "datapath = os.path.join(datadir,f\"rawdata_{datestart.strftime('%Y%m%d')}-{datefinish.strftime('%Y%m%d')}.csv\")\n",
    "\n",
    "#\n",
    "# UNCOMMENT TO DOWNLOAD DATA\n",
    "#\n",
    "# request = urllib.request.urlopen(fullurl)\n",
    "# rawdata = request.read()\n",
    "# with open(datapath,'w') as f:\n",
    "#     f.write(rawdata.decode())"
   ]
  },
  {
   "cell_type": "code",
   "execution_count": 27,
   "metadata": {},
   "outputs": [
    {
     "name": "stdout",
     "output_type": "stream",
     "text": [
      "# STATION: KCPR\n",
      "# STATION NAME: Casper, Natrona County International Airport\n",
      "# LATITUDE: 42.89750\n",
      "# LONGITUDE: -106.47306\n",
      "# ELEVATION [ft]: 5348\n",
      "# STATE: WY\n"
     ]
    }
   ],
   "source": [
    "with open(datapath,'r') as f:\n",
    "    line = f.readline()\n",
    "    while line.startswith('#'):\n",
    "        print(line.strip())\n",
    "        line = f.readline()\n",
    "    channels = line.strip().split(',')\n",
    "    units = dict(zip(channels,f.readline().split(',')))\n",
    "    data = pd.read_csv(f, names=channels, parse_dates=['Date_Time']).set_index(['Date_Time','Station_ID'])"
   ]
  },
  {
   "cell_type": "markdown",
   "metadata": {},
   "source": [
    "### 3.2. Check data"
   ]
  },
  {
   "cell_type": "code",
   "execution_count": 28,
   "metadata": {},
   "outputs": [],
   "source": [
    "dfcasp = data.xs(stationlist[0].upper(),level='Station_ID')\n",
    "for col,series in dfcasp.iteritems():\n",
    "    if np.all(pd.isna(series)):\n",
    "        print(col,'is unavailable')\n",
    "        \n",
    "#print(stationlist[0].upper(),'statistics:')\n",
    "#display(dfcasp.describe())"
   ]
  },
  {
   "cell_type": "code",
   "execution_count": 29,
   "metadata": {},
   "outputs": [],
   "source": [
    "# Resample data into 1 hour\n",
    "dfcasp = dfcasp.resample('1h').mean()\n",
    "\n",
    "# Rename the useful variables for convenience\n",
    "renameDict = {'air_temp_set_1':'temperature', \\\n",
    "              'relative_humidity_set_1':'RH', \\\n",
    "              'wind_speed_set_1':'windspeed', \\\n",
    "              'wind_direction_set_1':'winddirection', \\\n",
    "              'wind_gust_set_1':'windgust', \\\n",
    "              'peak_wind_speed_set_1':'peakwindspeed'}\n",
    "\n",
    "dfcasp.rename(columns=renameDict, inplace=True)\n",
    "dfcasp.index.rename('datetime',inplace=True)"
   ]
  },
  {
   "cell_type": "markdown",
   "metadata": {},
   "source": [
    "## 4. Perform additional operations"
   ]
  },
  {
   "cell_type": "markdown",
   "metadata": {},
   "source": [
    "### 4.1. Adjust timezone\n",
    "WTK data is in UTC and so is airport data. Converting them to MST."
   ]
  },
  {
   "cell_type": "code",
   "execution_count": 30,
   "metadata": {},
   "outputs": [],
   "source": [
    "dfold.index = dfold.index.tz_localize('UTC').tz_convert('US/Mountain')\n",
    "    \n",
    "for df in dfsc,df20km,dfcasp:\n",
    "    df.index = df.index.tz_convert('US/Mountain')"
   ]
  },
  {
   "cell_type": "markdown",
   "metadata": {},
   "source": [
    "### 4.2. Rename and stack dataframes\n",
    "Make names shorter and consistent for convenience"
   ]
  },
  {
   "cell_type": "code",
   "execution_count": 31,
   "metadata": {},
   "outputs": [],
   "source": [
    "# Updated datasets\n",
    "renameDict = {'boundary_layer_height':'z_i', \\\n",
    "              'friction_velocity_2m':'ustar', \\\n",
    "              'inversemoninobukhovlength_2m':'inverseL_2m', \\\n",
    "              'latent_heat_flux':'latent_hfx', \\\n",
    "              'precipitationrate_0m':'precipRate', \\\n",
    "              'relativehumidity_2m':'RH_2m', \\\n",
    "              'skin_temperature':'skinTemp', \\\n",
    "              'surface_heat_flux':'hfx_Wm2', \\\n",
    "              'surface_sea_temperature':'SST', \\\n",
    "              'turbulent_kinetic_energy':'tke', }\n",
    "\n",
    "dfsc = dfsc.stack(dropna=False)\n",
    "dfsc.rename(columns=renameDict, inplace=True)\n",
    "\n",
    "df20km = df20km.stack(dropna=False)\n",
    "df20km.rename(columns=renameDict, inplace=True)"
   ]
  },
  {
   "cell_type": "code",
   "execution_count": 32,
   "metadata": {},
   "outputs": [],
   "source": [
    "# Old WTK dataset\n",
    "renameDict = {'u*':'ustar', \\\n",
    "              'z/L':'zoverL_2m', \\\n",
    "              'precipitationrate':'precipRate', \\\n",
    "              'RH':'RH_2m', \\\n",
    "              'stability_zL':'stability', \\\n",
    "              'hfx':'hfx_Wm2' }\n",
    "\n",
    "dfold.rename(columns=renameDict, inplace=True)\n",
    "dfold = dfold.stack(dropna=False)"
   ]
  },
  {
   "cell_type": "markdown",
   "metadata": {},
   "source": [
    "### 4.3. Interpolate pressure values"
   ]
  },
  {
   "cell_type": "code",
   "execution_count": 33,
   "metadata": {},
   "outputs": [],
   "source": [
    "for df in dfsc,df20km:\n",
    "    p = df['pressure'].unstack(level=0).copy()\n",
    "    p = p.interpolate(method='index', limit=None, limit_area='inside')\n",
    "\n",
    "    df['pressure'] = p.stack().reorder_levels(['datetime','height']).sort_index()"
   ]
  },
  {
   "cell_type": "markdown",
   "metadata": {},
   "source": [
    "### 4.4. Calculate additional quantities"
   ]
  },
  {
   "cell_type": "code",
   "execution_count": 34,
   "metadata": {},
   "outputs": [],
   "source": [
    "for df in dfsc,df20km:\n",
    "    # Convert deg C to K\n",
    "    df['temperature'] = df['temperature'] + 273.15\n",
    "    df['skinTemp'] = df['skinTemp'] + 273.15\n",
    "    df['SST'] = df['SST'] + 273.15\n",
    "    \n",
    "    # potential temperature [K]\n",
    "    df['theta'] = theta(df['temperature'], df['pressure'], p0=df['pressure'].xs(0,level='height'))\n",
    "    # virtual potential temperature [K]\n",
    "    df['thetav'] = T_to_Tv(df['theta'], p=0.01*df['pressure'], RH=df['RH_2m'])\n",
    "\n",
    "    # density [km/m3]\n",
    "    tvirtual = T_to_Tv(df['temperature'], p=0.01*df['pressure'], RH=df['RH_2m'])\n",
    "    df['density'] = df['pressure']/(Rd*tvirtual)\n",
    "\n",
    "    # Convert heat fluxes from W/m2 to K-m/s\n",
    "    df['hfx_Kms'] = df['hfx_Wm2'] / (df['density'].xs(2,level='height')*Cp)\n",
    "    df['latent_hfx'] = df['latent_hfx'] / (df['density'].xs(2,level='height')*Cp)\n",
    "\n",
    "    # Add cardinal direction as a field for easy access\n",
    "    winddir_ranges = np.hstack((0,np.arange(11.25,360,(360/16)),360))\n",
    "    winddir_range_names = ['N','NNE','NE','ENE','E','ESE','SE','SSE','S','SSW','SW','WSW','W','WNW','NW','NNW','N']\n",
    "    df['dir'] = pd.cut(df['winddirection'], bins=winddir_ranges, labels=winddir_range_names, ordered=False)"
   ]
  },
  {
   "cell_type": "code",
   "execution_count": 35,
   "metadata": {},
   "outputs": [],
   "source": [
    "# add extra hour column\n",
    "dfsc['hour']   = (dfsc.index.levels[0].hour).repeat(len(heights_u))\n",
    "df20km['hour'] = (df20km.index.levels[0].hour).repeat(len(heights_u))\n",
    "dfold['hour']  = (dfold.index.levels[0].hour).repeat(len(heights_oldWTK)+1)\n",
    "dfcasp['hour']  = dfcasp.index.hour"
   ]
  },
  {
   "cell_type": "code",
   "execution_count": 36,
   "metadata": {},
   "outputs": [],
   "source": [
    "# Add heat flux in different units to old WTK dataframe\n",
    "dfold['hfx_Kms']=  dfold['hfx_Wm2']/(Cp*dfold['density'].xs(2.0,level='height'))\n",
    "\n",
    "# Add cardinal directions\n",
    "dfcasp['dir'] = pd.cut(dfcasp['winddirection'], bins=winddir_ranges, labels=winddir_range_names, ordered=False)"
   ]
  },
  {
   "cell_type": "markdown",
   "metadata": {},
   "source": [
    "### 4.5. Determine Obukhov length from equation and compare\n",
    "The Obukhov length is defined at 2m in the WTK. "
   ]
  },
  {
   "cell_type": "code",
   "execution_count": 37,
   "metadata": {},
   "outputs": [],
   "source": [
    "for df in dfsc,df20km:\n",
    "    #df['inverseLeq'] = 1/(- df['ustar']**3 * df['thetav'].xs(2,level='height') / ( k*g*df['hfx_Kms'].xs(0,level='height') ) )\n",
    "    #mithu:\n",
    "    df['inverseLeq'] = -1/( (df['ustar']**3 *df['thetav'].xs(2,level='height') ) / ( k*g*df['hfx_Kms'].xs(0,level='height') ) )\n",
    "    df['zoverL_2m'] = 2*df['inverseL_2m']\n",
    "    df['zoverLeq'] = 2*df['inverseLeq']"
   ]
  },
  {
   "cell_type": "code",
   "execution_count": 38,
   "metadata": {},
   "outputs": [
    {
     "data": {
      "text/plain": [
       "count    17520.000000\n",
       "mean         0.497664\n",
       "std          0.876338\n",
       "min         -0.874629\n",
       "25%         -0.024962\n",
       "50%          0.028118\n",
       "75%          0.788339\n",
       "max          7.455990\n",
       "Name: zoverL_2m, dtype: float64"
      ]
     },
     "execution_count": 38,
     "metadata": {},
     "output_type": "execute_result"
    }
   ],
   "source": [
    "df['zoverL_2m'].xs(2,level='height').describe()"
   ]
  },
  {
   "cell_type": "code",
   "execution_count": 39,
   "metadata": {},
   "outputs": [
    {
     "data": {
      "text/plain": [
       "count    17520.000000\n",
       "mean         0.168924\n",
       "std          0.448678\n",
       "min         -0.729051\n",
       "25%         -0.019190\n",
       "50%          0.010057\n",
       "75%          0.190193\n",
       "max          8.773102\n",
       "Name: zoverLeq, dtype: float64"
      ]
     },
     "execution_count": 39,
     "metadata": {},
     "output_type": "execute_result"
    }
   ],
   "source": [
    "df['zoverLeq'].describe()"
   ]
  },
  {
   "cell_type": "code",
   "execution_count": 40,
   "metadata": {},
   "outputs": [
    {
     "data": {
      "image/png": "[encoded data removed]",
      "text/plain": [
       "<Figure size 864x360 with 2 Axes>"
      ]
     },
     "metadata": {
      "needs_background": "light"
     },
     "output_type": "display_data"
    }
   ],
   "source": [
    "fig,ax = plt.subplots(nrows=1, ncols=2, figsize=(12,5))\n",
    "\n",
    "ax[0].set_title(r'single column $z/L$, $z=2$ m', fontsize='x-large')\n",
    "ax[1].set_title(r'20x20 km avg $z/L$, $z=2$ m', fontsize='x-large')\n",
    "\n",
    "for i, df in enumerate([dfsc,df20km]):\n",
    "    ax[i].scatter(df['zoverL_2m'], df['zoverLeq'], alpha=0.05)\n",
    "    minmax = (-1, 9)\n",
    "    ax[i].plot(minmax, minmax, 'r')\n",
    "    ax[i].set_xlim(minmax);  ax[i].set_ylim(minmax)\n",
    "    ax[i].tick_params(labelsize='large')\n",
    "    ax[i].set_xlabel(r'from WIND Toolkit [-]', fontsize='x-large')\n",
    "    ax[i].set_ylabel(r'calculated from eq [-]', fontsize='x-large')\n",
    "    \n",
    "# Equation seems to be underestimating for values over z/L > 1 and z/L<8"
   ]
  },
  {
   "cell_type": "code",
   "execution_count": 41,
   "metadata": {},
   "outputs": [
    {
     "data": {
      "image/png": "[encoded data removed]",
      "text/plain": [
       "<Figure size 864x360 with 2 Axes>"
      ]
     },
     "metadata": {
      "needs_background": "light"
     },
     "output_type": "display_data"
    }
   ],
   "source": [
    "fig,ax = plt.subplots(nrows=1, ncols=2, figsize=(12,5))\n",
    "\n",
    "ax[0].set_title(r'single column $z/L$, $z=2$ m', fontsize='x-large')\n",
    "ax[1].set_title(r'20x20 km avg $z/L$, $z=2$ m', fontsize='x-large')\n",
    "\n",
    "for i, df in enumerate([dfsc,df20km]):\n",
    "    ax[i].scatter(df['zoverL_2m'], df['zoverLeq'], alpha=0.05)\n",
    "    minmax = (-1, 9)\n",
    "    ax[i].plot(minmax, minmax, 'r')\n",
    "    ax[i].set_xlim(minmax);  ax[i].set_ylim(minmax)\n",
    "    ax[i].tick_params(labelsize='large')\n",
    "    ax[i].set_xlabel(r'from WIND Toolkit [-]', fontsize='x-large')\n",
    "    ax[i].set_ylabel(r'calculated from eq [-]', fontsize='x-large')\n",
    "    \n",
    "# Equation seems to be underestimating for values over z/L > 1 and z/L<8"
   ]
  },
  {
   "cell_type": "markdown",
   "metadata": {},
   "source": [
    "### 4.6. Classify Stability\n",
    "\n",
    "Using classification from \"On the extension of the wind profile over homogeneous terrain beyond the surface boundary layer\" by Gryning et al (BLM 2007)."
   ]
  },
  {
   "cell_type": "code",
   "execution_count": 42,
   "metadata": {},
   "outputs": [],
   "source": [
    "Lgry = np.array([-50, -100, -200, -500, 500, 200, 50, 10])\n",
    "\n",
    "# modifying so it's symmetric (following Eliot's early notebook)\n",
    "Lranges = np.array([-0.5,-50, -200, -500, 500, 200, 50, 0.5])\n",
    "zoverL_ranges = 2.0 / Lranges\n",
    "zoverL_range_names = ['VU','U','NU','N','NS','S','VS']"
   ]
  },
  {
   "cell_type": "code",
   "execution_count": 43,
   "metadata": {},
   "outputs": [
    {
     "name": "stdout",
     "output_type": "stream",
     "text": [
      "Dataframe 0: 0 outliers out of 26304 (0.0%)\n",
      "Dataframe 1: 379 outliers out of 17520 (2.16324200913242%)\n",
      "Dataframe 2: 122 outliers out of 17520 (0.6963470319634704%)\n"
     ]
    }
   ],
   "source": [
    "for i, df in enumerate([dfold,dfsc,df20km]):\n",
    "    zoverL = df['zoverL_2m'].xs(2,level='height')\n",
    "    inrange = (zoverL >= zoverL_ranges[0]) & (zoverL <= zoverL_ranges[-1])\n",
    "    Noutliers = np.count_nonzero(~inrange)\n",
    "    print(f'Dataframe {i}: {Noutliers} outliers out of {len(zoverL)} ({100*Noutliers/len(zoverL)}%)')"
   ]
  },
  {
   "cell_type": "code",
   "execution_count": 44,
   "metadata": {},
   "outputs": [],
   "source": [
    "# Set stability classification\n",
    "for df in dfold,dfsc,df20km:\n",
    "    df['stability'] = pd.cut(df['zoverL_2m'], bins=zoverL_ranges, labels=zoverL_range_names)"
   ]
  },
  {
   "cell_type": "markdown",
   "metadata": {},
   "source": [
    "### 4.7. Add season/month information"
   ]
  },
  {
   "cell_type": "code",
   "execution_count": 45,
   "metadata": {},
   "outputs": [],
   "source": [
    "# Add season information\n",
    "# 0: winter; 1: spring; 2: summer; 3: fall\n",
    "season_names = ['winter','spring','summer','fall']\n",
    "\n",
    "dfsc['season']   = ((dfsc.index.levels[0].month%12)//3).repeat(len(heights_u))\n",
    "df20km['season'] = ((df20km.index.levels[0].month%12)//3).repeat(len(heights_u))\n",
    "dfold['season']  = ((dfold.index.levels[0].month%12)//3).repeat(len(heights_oldWTK)+1)\n",
    "dfcasp['season']  = (dfcasp.index.month%12)//3"
   ]
  },
  {
   "cell_type": "code",
   "execution_count": 46,
   "metadata": {},
   "outputs": [],
   "source": [
    "# Add month information (make it easier to access it later)\n",
    "month_names = ['','Jan', 'Feb', 'Mar', 'Apr', 'May', 'Jun', 'Jul', 'Aug', 'Sep', 'Oct', 'Nov', 'Dec']\n",
    "\n",
    "dfsc['month']   = (dfsc.index.levels[0].month%12).repeat(len(heights_u))\n",
    "df20km['month'] = (df20km.index.levels[0].month%12).repeat(len(heights_u))"
   ]
  },
  {
   "cell_type": "markdown",
   "metadata": {},
   "source": [
    "# - Save DataFrames for further analysis"
   ]
  },
  {
   "cell_type": "code",
   "execution_count": 52,
   "metadata": {},
   "outputs": [],
   "source": [
    "dfsc.reset_index().to_feather(os.path.join('data','dfsc.ftr'))\n",
    "df20km.reset_index().to_feather(os.path.join('data','df20km.ftr'))\n",
    "dfold.reset_index().to_feather(os.path.join('data','dfold.ftr'))\n",
    "dfcasp.reset_index().to_feather(os.path.join('data','dfcasp.ftr'))"
   ]
  },
  {
   "cell_type": "code",
   "execution_count": null,
   "metadata": {},
   "outputs": [],
   "source": []
  }
 ],
 "metadata": {
  "kernelspec": {
   "display_name": "Python 3",
   "language": "python",
   "name": "python3"
  },
  "language_info": {
   "codemirror_mode": {
    "name": "ipython",
    "version": 3
   },
   "file_extension": ".py",
   "mimetype": "text/x-python",
   "name": "python",
   "nbconvert_exporter": "python",
   "pygments_lexer": "ipython3",
   "version": "3.8.5"
  }
 },
 "nbformat": 4,
 "nbformat_minor": 4
}
